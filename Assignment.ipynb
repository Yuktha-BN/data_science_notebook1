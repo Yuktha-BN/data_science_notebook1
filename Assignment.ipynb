{
 "cells": [
  {
   "cell_type": "markdown",
   "id": "3bf149c7-7f4e-4502-91e0-744e8c2eda0c",
   "metadata": {},
   "source": [
    "My Data Science Notebook"
   ]
  },
  {
   "cell_type": "markdown",
   "id": "09e10b40-2941-4b8e-8630-7d12adc94786",
   "metadata": {},
   "source": [
    "In this notebook, I'll explore various data science concepts and demonstrate some basic arithmetic operations using Python."
   ]
  },
  {
   "cell_type": "markdown",
   "id": "bc585f49-8108-4d26-8c55-b05b51803958",
   "metadata": {},
   "source": [
    "## Data Science Languages\r\n",
    "\r\n",
    "- Python\r\n",
    "- R\r\n",
    "- SQL\r\n"
   ]
  },
  {
   "cell_type": "markdown",
   "id": "925cd0de-1c2e-499e-8ceb-828e204b4a82",
   "metadata": {},
   "source": [
    "## Data Science Libraries\r\n",
    "\r\n",
    "- Pandas\r\n",
    "- NumPy\r\n",
    "- Matplotlib\r\n",
    "- Seaborn\r\n"
   ]
  },
  {
   "cell_type": "markdown",
   "id": "3ecbca89-0c10-4356-a604-cb8bb32dd2d1",
   "metadata": {},
   "source": [
    "## Data Science Tools\r\n",
    "\r\n",
    "| Tool        | Description                      |\r\n",
    "|-------------|----------------------------------|\r\n",
    "| Jupyter     | Interactive computing            |\r\n",
    "| TensorFlow  | Machine learning library         |\r\n",
    "| Scikit-learn| Machine learning library         |\r\n",
    "| Keras       | Deep learning library            |\r\n",
    "| Plotly      | Data visualization library       |\r\n"
   ]
  },
  {
   "cell_type": "markdown",
   "id": "e5c1b343-c2bc-4d40-91e9-5446f6f9bd72",
   "metadata": {},
   "source": [
    "## Arithmetic Expression Examples\r\n",
    "\r\n",
    "Let's explore some basic arithmetic expressions using Python.\r\n"
   ]
  },
  {
   "cell_type": "code",
   "execution_count": 1,
   "id": "7b35d816-cef2-48b5-ae02-409b72bec730",
   "metadata": {},
   "outputs": [
    {
     "data": {
      "text/plain": [
       "(50, 15)"
      ]
     },
     "execution_count": 1,
     "metadata": {},
     "output_type": "execute_result"
    }
   ],
   "source": [
    "# Multiply and add numbers\r\n",
    "a = 5\r\n",
    "b = 10\r\n",
    "multiply = a * b\r\n",
    "add = a + b\r\n",
    "multiply, add\r\n"
   ]
  },
  {
   "cell_type": "code",
   "execution_count": 2,
   "id": "9c0aa6e6-c5ea-4e76-a404-367e488e0b5c",
   "metadata": {},
   "outputs": [
    {
     "data": {
      "text/plain": [
       "2.0"
      ]
     },
     "execution_count": 2,
     "metadata": {},
     "output_type": "execute_result"
    }
   ],
   "source": [
    "# Convert minutes to hours\n",
    "minutes = 120\n",
    "hours = minutes / 60\n",
    "hours\n"
   ]
  },
  {
   "cell_type": "markdown",
   "id": "404085b7-2eeb-4cd6-94aa-7db44a39b760",
   "metadata": {},
   "source": [
    "## Objectives\r\n",
    "\r\n",
    "1. Explore basic data science concepts.\r\n",
    "2. Demonstrate arithmetic operations using Python.\r\n"
   ]
  },
  {
   "cell_type": "markdown",
   "id": "500abfcc-2c9c-4387-8524-1e83cfb56426",
   "metadata": {},
   "source": [
    "## Author\n",
    "\n",
    "Yuktha B N"
   ]
  },
  {
   "cell_type": "code",
   "execution_count": null,
   "id": "a3cdbf44-a124-413c-90af-a54dfbee7866",
   "metadata": {},
   "outputs": [],
   "source": []
  }
 ],
 "metadata": {
  "kernelspec": {
   "display_name": "Python 3 (ipykernel)",
   "language": "python",
   "name": "python3"
  },
  "language_info": {
   "codemirror_mode": {
    "name": "ipython",
    "version": 3
   },
   "file_extension": ".py",
   "mimetype": "text/x-python",
   "name": "python",
   "nbconvert_exporter": "python",
   "pygments_lexer": "ipython3",
   "version": "3.11.3"
  }
 },
 "nbformat": 4,
 "nbformat_minor": 5
}
